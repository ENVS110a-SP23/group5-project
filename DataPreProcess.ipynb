{
 "cells": [
  {
   "attachments": {},
   "cell_type": "markdown",
   "metadata": {},
   "source": [
    "**GROUP 5**\n",
    "Data Pre-processing"
   ]
  },
  {
   "attachments": {},
   "cell_type": "markdown",
   "metadata": {},
   "source": [
    "First, we imported our data (and numpy and pandas to help us start looking at it) and created dataframes\n",
    "\n",
    "We ran .head() to check that everything looked correct with our new dataframes"
   ]
  },
  {
   "cell_type": "code",
   "execution_count": 7,
   "metadata": {},
   "outputs": [
    {
     "name": "stdout",
     "output_type": "stream",
     "text": [
      "     State   County  Year  Days with AQI  Good Days  Moderate Days  \\\n",
      "0  Alabama  Baldwin  2015            264        230             33   \n",
      "1  Alabama     Clay  2015            112        101             11   \n",
      "2  Alabama  Colbert  2015            280        251             29   \n",
      "3  Alabama   DeKalb  2015            363        319             43   \n",
      "4  Alabama   Elmore  2015            233        223              9   \n",
      "\n",
      "   Unhealthy for Sensitive Groups Days  Unhealthy Days  Very Unhealthy Days  \\\n",
      "0                                    1               0                    0   \n",
      "1                                    0               0                    0   \n",
      "2                                    0               0                    0   \n",
      "3                                    1               0                    0   \n",
      "4                                    1               0                    0   \n",
      "\n",
      "   Hazardous Days  Max AQI  90th Percentile AQI  Median AQI  Days CO  \\\n",
      "0               0      129                   53          38        0   \n",
      "1               0       91                   50          32        0   \n",
      "2               0       73                   51          36        0   \n",
      "3               0      101                   52          37        0   \n",
      "4               0      115                   47          35        0   \n",
      "\n",
      "   Days NO2  Days Ozone  Days PM2.5  Days PM10  \n",
      "0         0         189          75          0  \n",
      "1         0           0         112          0  \n",
      "2         0         195          85          0  \n",
      "3         0         307          56          0  \n",
      "4         0         233           0          0  \n",
      "     State   County  Year  Days with AQI  Good Days  Moderate Days  \\\n",
      "0  Alabama  Baldwin  2016            279        247             32   \n",
      "1  Alabama     Clay  2016            116        109              7   \n",
      "2  Alabama  Colbert  2016            282        258             23   \n",
      "3  Alabama   DeKalb  2016            348        304             43   \n",
      "4  Alabama   Elmore  2016            117        107             10   \n",
      "\n",
      "   Unhealthy for Sensitive Groups Days  Unhealthy Days  Very Unhealthy Days  \\\n",
      "0                                    0               0                    0   \n",
      "1                                    0               0                    0   \n",
      "2                                    1               0                    0   \n",
      "3                                    1               0                    0   \n",
      "4                                    0               0                    0   \n",
      "\n",
      "   Hazardous Days  Max AQI  90th Percentile AQI  Median AQI  Days CO  \\\n",
      "0               0       87                   51          37        0   \n",
      "1               0       56                   45          30        0   \n",
      "2               0      115                   50          38        0   \n",
      "3               0      119                   54          40        0   \n",
      "4               0       77                   48          40        0   \n",
      "\n",
      "   Days NO2  Days Ozone  Days PM2.5  Days PM10  \n",
      "0         0         221          58          0  \n",
      "1         0           0         116          0  \n",
      "2         0         219          63          0  \n",
      "3         0         321          27          0  \n",
      "4         0         117           0          0  \n"
     ]
    },
    {
     "data": {
      "text/html": [
       "<div>\n",
       "<style scoped>\n",
       "    .dataframe tbody tr th:only-of-type {\n",
       "        vertical-align: middle;\n",
       "    }\n",
       "\n",
       "    .dataframe tbody tr th {\n",
       "        vertical-align: top;\n",
       "    }\n",
       "\n",
       "    .dataframe thead th {\n",
       "        text-align: right;\n",
       "    }\n",
       "</style>\n",
       "<table border=\"1\" class=\"dataframe\">\n",
       "  <thead>\n",
       "    <tr style=\"text-align: right;\">\n",
       "      <th></th>\n",
       "      <th>County</th>\n",
       "      <th>Year</th>\n",
       "      <th>Asthma measure</th>\n",
       "      <th>Comparison</th>\n",
       "      <th>Group</th>\n",
       "      <th>County prevalence</th>\n",
       "      <th>County 95% confidence interval</th>\n",
       "      <th>California prevalence</th>\n",
       "      <th>California 95% confidence interval</th>\n",
       "      <th>Comment</th>\n",
       "    </tr>\n",
       "  </thead>\n",
       "  <tbody>\n",
       "    <tr>\n",
       "      <th>0</th>\n",
       "      <td>Alameda</td>\n",
       "      <td>2015 2016</td>\n",
       "      <td>Lifetime asthma prevalence</td>\n",
       "      <td>Total population</td>\n",
       "      <td>All ages</td>\n",
       "      <td>14.30%</td>\n",
       "      <td>(10.7 17.9)</td>\n",
       "      <td>14.80%</td>\n",
       "      <td>(14.0 15.7)</td>\n",
       "      <td>None</td>\n",
       "    </tr>\n",
       "    <tr>\n",
       "      <th>1</th>\n",
       "      <td>Alpine</td>\n",
       "      <td>2015 2016</td>\n",
       "      <td>Lifetime asthma prevalence</td>\n",
       "      <td>Total population</td>\n",
       "      <td>All ages</td>\n",
       "      <td>14.20%</td>\n",
       "      <td>(7.2 21.1)</td>\n",
       "      <td>14.80%</td>\n",
       "      <td>(14.0 15.7)</td>\n",
       "      <td>Alpine, Amador, Calaveras, Inyo, Mariposa, Mon...</td>\n",
       "    </tr>\n",
       "    <tr>\n",
       "      <th>2</th>\n",
       "      <td>Amador</td>\n",
       "      <td>2015 2016</td>\n",
       "      <td>Lifetime asthma prevalence</td>\n",
       "      <td>Total population</td>\n",
       "      <td>All ages</td>\n",
       "      <td>14.20%</td>\n",
       "      <td>(7.2 21.1)</td>\n",
       "      <td>14.80%</td>\n",
       "      <td>(14.0 15.7)</td>\n",
       "      <td>Alpine, Amador, Calaveras, Inyo, Mariposa, Mon...</td>\n",
       "    </tr>\n",
       "    <tr>\n",
       "      <th>3</th>\n",
       "      <td>Butte</td>\n",
       "      <td>2015 2016</td>\n",
       "      <td>Lifetime asthma prevalence</td>\n",
       "      <td>Total population</td>\n",
       "      <td>All ages</td>\n",
       "      <td>14.70%</td>\n",
       "      <td>(7.8 21.6)</td>\n",
       "      <td>14.80%</td>\n",
       "      <td>(14.0 15.7)</td>\n",
       "      <td>None</td>\n",
       "    </tr>\n",
       "    <tr>\n",
       "      <th>4</th>\n",
       "      <td>Calaveras</td>\n",
       "      <td>2015 2016</td>\n",
       "      <td>Lifetime asthma prevalence</td>\n",
       "      <td>Total population</td>\n",
       "      <td>All ages</td>\n",
       "      <td>14.20%</td>\n",
       "      <td>(7.2 21.1)</td>\n",
       "      <td>14.80%</td>\n",
       "      <td>(14.0 15.7)</td>\n",
       "      <td>Alpine, Amador, Calaveras, Inyo, Mariposa, Mon...</td>\n",
       "    </tr>\n",
       "  </tbody>\n",
       "</table>\n",
       "</div>"
      ],
      "text/plain": [
       "      County       Year              Asthma measure        Comparison  \\\n",
       "0    Alameda  2015 2016  Lifetime asthma prevalence  Total population   \n",
       "1     Alpine  2015 2016  Lifetime asthma prevalence  Total population   \n",
       "2     Amador  2015 2016  Lifetime asthma prevalence  Total population   \n",
       "3      Butte  2015 2016  Lifetime asthma prevalence  Total population   \n",
       "4  Calaveras  2015 2016  Lifetime asthma prevalence  Total population   \n",
       "\n",
       "      Group County prevalence County 95% confidence interval  \\\n",
       "0  All ages            14.30%                    (10.7 17.9)   \n",
       "1  All ages            14.20%                     (7.2 21.1)   \n",
       "2  All ages            14.20%                     (7.2 21.1)   \n",
       "3  All ages            14.70%                     (7.8 21.6)   \n",
       "4  All ages            14.20%                     (7.2 21.1)   \n",
       "\n",
       "  California prevalence California 95% confidence interval  \\\n",
       "0                14.80%                        (14.0 15.7)   \n",
       "1                14.80%                        (14.0 15.7)   \n",
       "2                14.80%                        (14.0 15.7)   \n",
       "3                14.80%                        (14.0 15.7)   \n",
       "4                14.80%                        (14.0 15.7)   \n",
       "\n",
       "                                             Comment  \n",
       "0                                               None  \n",
       "1  Alpine, Amador, Calaveras, Inyo, Mariposa, Mon...  \n",
       "2  Alpine, Amador, Calaveras, Inyo, Mariposa, Mon...  \n",
       "3                                               None  \n",
       "4  Alpine, Amador, Calaveras, Inyo, Mariposa, Mon...  "
      ]
     },
     "execution_count": 7,
     "metadata": {},
     "output_type": "execute_result"
    }
   ],
   "source": [
    "import numpy as np\n",
    "import pandas as pd\n",
    "import matplotlib as sns\n",
    "\n",
    "asthma = pd.read_csv('/Datasets/California_Asthma_Data_ADA.csv', header = 4)\n",
    "aqi2015 = pd.read_csv('Datasets/annual_aqi_by_county_2015.csv')\n",
    "aqi2016 = pd.read_csv('/Datasets/annual_aqi_by_county_2016.csv')\n",
    "\n",
    "print(aqi2015.head())\n",
    "print(aqi2016.head())\n",
    "asthma.head()"
   ]
  },
  {
   "cell_type": "code",
   "execution_count": null,
   "metadata": {},
   "outputs": [],
   "source": []
  },
  {
   "attachments": {},
   "cell_type": "markdown",
   "metadata": {},
   "source": [
    "Our group is going to be comparing ashtma rates and AQI of different counties in CA in 2015-2016, so we will want to be aware of any data that is missing:"
   ]
  },
  {
   "cell_type": "code",
   "execution_count": 8,
   "metadata": {},
   "outputs": [
    {
     "name": "stdout",
     "output_type": "stream",
     "text": [
      "the aqi 2015 dataset has 0 columns with missing values and 0 rows with missing data\n",
      "the aqi 2016 dataset has 0 columns with missing values and 0 rows with missing data\n",
      "asthma dataset has 461 columns with missing data\n",
      "asthma dataset has 1 rows with missing data\n",
      "(2436, 10) is the total size of the asthma dataset\n"
     ]
    }
   ],
   "source": [
    "print('the aqi 2015 dataset has', sum(aqi2015.isnull().any(axis=1)), 'columns with missing values and',\n",
    "sum(aqi2015.isnull().any(axis=0)), 'rows with missing data')\n",
    "\n",
    "print('the aqi 2016 dataset has', sum(aqi2016.isnull().any(axis=1)), 'columns with missing values and',\n",
    "sum(aqi2016.isnull().any(axis=0)), 'rows with missing data')\n",
    "\n",
    "print('asthma dataset has', sum(asthma.isnull().any(axis=1)), 'columns with missing data') \n",
    "print('asthma dataset has', sum(asthma.isnull().any(axis=0)), 'rows with missing data') \n",
    "print(asthma.shape, 'is the total size of the asthma dataset')"
   ]
  },
  {
   "attachments": {},
   "cell_type": "markdown",
   "metadata": {},
   "source": [
    "We wanted to see all the null values in the asthma dataframe so we could know what was missing"
   ]
  },
  {
   "cell_type": "code",
   "execution_count": 9,
   "metadata": {},
   "outputs": [
    {
     "name": "stdout",
     "output_type": "stream",
     "text": [
      "County                                False\n",
      "Year                                  False\n",
      "Asthma measure                        False\n",
      "Comparison                            False\n",
      "Group                                 False\n",
      "County prevalence                     False\n",
      "County 95% confidence interval        False\n",
      "California prevalence                 False\n",
      "California 95% confidence interval    False\n",
      "Comment                                True\n",
      "dtype: bool\n"
     ]
    }
   ],
   "source": [
    "print(asthma.isnull().any(axis=0))"
   ]
  },
  {
   "attachments": {},
   "cell_type": "markdown",
   "metadata": {},
   "source": [
    "This helped us realize that the null values were popping up so frequently because python was reading too much of our dataset; our excel file only has relevant data in the first nine columns, but python is looking at up to 16 columns which are mostly empty cells, and otherwise only contain notes that python cannot make sense of.\n",
    "\n",
    "We also only want to look at data from California in our aqi datasets. Because of this, we made three subsets:"
   ]
  },
  {
   "cell_type": "code",
   "execution_count": 10,
   "metadata": {},
   "outputs": [],
   "source": [
    "asthmalist = ['County', 'Year', 'Asthma measure', 'Comparison', 'Group',\n",
    "       'County prevalence', 'County 95% confidence interval',\n",
    "       'California prevalence', 'California 95% confidence interval']\n",
    "\n",
    "ca_asthma = asthma[asthmalist]\n",
    "\n",
    "ca_aqi2015 = aqi2015.loc[aqi2015['State']=='California',:].reset_index(drop=True)\n",
    "ca_aqi2016 = aqi2016.loc[aqi2016['State']=='California',:].reset_index(drop=True)"
   ]
  },
  {
   "attachments": {},
   "cell_type": "markdown",
   "metadata": {},
   "source": [
    "Ford helped us realize that we need to make sure we are looking at data for the same time period.\n",
    "Our asthma data is grouped into two year intervals, and our aqi data is in two seperate datasets from 2015-2016.\n",
    "This means we need to combine our two aqi datasets, and for our asthma data, we need to isolate the years 2015-16."
   ]
  },
  {
   "cell_type": "code",
   "execution_count": 11,
   "metadata": {},
   "outputs": [],
   "source": [
    "ca_aqi = pd.concat([ca_aqi2015, ca_aqi2016], axis = 0)\n",
    "\n",
    "ca_asthma2015 = ca_asthma.loc[ca_asthma['Year']=='2015 2016',:].reset_index(drop=True)"
   ]
  },
  {
   "attachments": {},
   "cell_type": "markdown",
   "metadata": {},
   "source": [
    "We needed to check how much data we are going to have to work with to make sure we have at least enough to complete the project"
   ]
  },
  {
   "cell_type": "code",
   "execution_count": 12,
   "metadata": {},
   "outputs": [
    {
     "name": "stdout",
     "output_type": "stream",
     "text": [
      "(812, 9)\n",
      "(108, 18)\n",
      "This should give us enough data to look at\n"
     ]
    }
   ],
   "source": [
    "print(ca_asthma2015.shape)\n",
    "print(ca_aqi.shape)\n",
    "print('This should give us enough data to look at')"
   ]
  },
  {
   "attachments": {},
   "cell_type": "markdown",
   "metadata": {},
   "source": [
    "Finally, we used .describe() to quickly look at some summary statistics from our final dataframes as well"
   ]
  },
  {
   "cell_type": "code",
   "execution_count": 61,
   "metadata": {},
   "outputs": [
    {
     "name": "stdout",
     "output_type": "stream",
     "text": [
      "         County       Year              Asthma measure Comparison     Group  \\\n",
      "count       812        812                         812        812       812   \n",
      "unique       58          1                           2          3         7   \n",
      "top     Alameda  2015–2016  Lifetime asthma prevalence  Age group  All ages   \n",
      "freq         14        812                         406        464       116   \n",
      "\n",
      "       County prevalence County 95% confidence interval California prevalence  \\\n",
      "count                812                            812                   812   \n",
      "unique               174                            376                    14   \n",
      "top        Not available                  Not available                 14.8%   \n",
      "freq                 325                            325                    58   \n",
      "\n",
      "       California 95% confidence interval  \n",
      "count                                 812  \n",
      "unique                                 14  \n",
      "top                           (14.0–15.7)  \n",
      "freq                                   58  \n",
      "              Year  Days with AQI   Good Days  Moderate Days  \\\n",
      "count   108.000000     108.000000  108.000000     108.000000   \n",
      "mean   2015.500000     348.027778  206.666667     114.231481   \n",
      "std       0.502331      66.773079   97.690815      68.530177   \n",
      "min    2015.000000      24.000000    1.000000       0.000000   \n",
      "25%    2015.000000     365.000000  126.750000      55.750000   \n",
      "50%    2015.500000     365.000000  231.500000     104.000000   \n",
      "75%    2016.000000     366.000000  288.500000     180.250000   \n",
      "max    2016.000000     366.000000  358.000000     255.000000   \n",
      "\n",
      "       Unhealthy for Sensitive Groups Days  Unhealthy Days  \\\n",
      "count                           108.000000      108.000000   \n",
      "mean                             21.796296        4.564815   \n",
      "std                              28.362065        9.311106   \n",
      "min                               0.000000        0.000000   \n",
      "25%                               1.000000        0.000000   \n",
      "50%                               9.500000        1.000000   \n",
      "75%                              33.250000        4.000000   \n",
      "max                             106.000000       48.000000   \n",
      "\n",
      "       Very Unhealthy Days  Hazardous Days      Max AQI  90th Percentile AQI  \\\n",
      "count           108.000000      108.000000   108.000000           108.000000   \n",
      "mean              0.324074        0.444444   255.879630            83.398148   \n",
      "std               1.372825        2.606008   715.100473            31.325825   \n",
      "min               0.000000        0.000000    49.000000            22.000000   \n",
      "25%               0.000000        0.000000   103.000000            60.500000   \n",
      "50%               0.000000        0.000000   152.000000            80.000000   \n",
      "75%               0.000000        0.000000   172.000000           102.000000   \n",
      "max              12.000000       24.000000  6403.000000           172.000000   \n",
      "\n",
      "       Median AQI     Days CO    Days NO2  Days Ozone  Days PM2.5   Days PM10  \n",
      "count  108.000000  108.000000  108.000000  108.000000  108.000000  108.000000  \n",
      "mean    47.907407    0.064815    5.768519  216.629630  110.166667   15.398148  \n",
      "std     16.690440    0.247347   14.135927   93.906455   65.830780   49.025254  \n",
      "min      9.000000    0.000000    0.000000    0.000000    0.000000    0.000000  \n",
      "25%     37.000000    0.000000    0.000000  182.750000   63.750000    0.000000  \n",
      "50%     44.000000    0.000000    0.000000  219.000000  127.500000    1.000000  \n",
      "75%     54.250000    0.000000    3.000000  263.250000  154.000000    7.500000  \n",
      "max    102.000000    1.000000   91.000000  366.000000  355.000000  347.000000  \n"
     ]
    }
   ],
   "source": [
    "print(ca_asthma2015.describe())\n",
    "print((ca_aqi).describe())"
   ]
  },
  {
   "cell_type": "markdown",
   "metadata": {},
   "source": []
  },
  {
   "cell_type": "code",
   "execution_count": 82,
   "metadata": {},
   "outputs": [
    {
     "data": {
      "text/html": [
       "<div>\n",
       "<style scoped>\n",
       "    .dataframe tbody tr th:only-of-type {\n",
       "        vertical-align: middle;\n",
       "    }\n",
       "\n",
       "    .dataframe tbody tr th {\n",
       "        vertical-align: top;\n",
       "    }\n",
       "\n",
       "    .dataframe thead th {\n",
       "        text-align: right;\n",
       "    }\n",
       "</style>\n",
       "<table border=\"1\" class=\"dataframe\">\n",
       "  <thead>\n",
       "    <tr style=\"text-align: right;\">\n",
       "      <th></th>\n",
       "      <th>Unnamed: 10</th>\n",
       "      <th>Unnamed: 11</th>\n",
       "      <th>Unnamed: 12</th>\n",
       "      <th>Unnamed: 13</th>\n",
       "      <th>Unnamed: 14</th>\n",
       "      <th>Unnamed: 15</th>\n",
       "      <th>Unnamed: 16</th>\n",
       "    </tr>\n",
       "  </thead>\n",
       "  <tbody>\n",
       "    <tr>\n",
       "      <th>count</th>\n",
       "      <td>0.0</td>\n",
       "      <td>0.0</td>\n",
       "      <td>0.0</td>\n",
       "      <td>0.0</td>\n",
       "      <td>0.0</td>\n",
       "      <td>0.0</td>\n",
       "      <td>0.0</td>\n",
       "    </tr>\n",
       "    <tr>\n",
       "      <th>mean</th>\n",
       "      <td>NaN</td>\n",
       "      <td>NaN</td>\n",
       "      <td>NaN</td>\n",
       "      <td>NaN</td>\n",
       "      <td>NaN</td>\n",
       "      <td>NaN</td>\n",
       "      <td>NaN</td>\n",
       "    </tr>\n",
       "    <tr>\n",
       "      <th>std</th>\n",
       "      <td>NaN</td>\n",
       "      <td>NaN</td>\n",
       "      <td>NaN</td>\n",
       "      <td>NaN</td>\n",
       "      <td>NaN</td>\n",
       "      <td>NaN</td>\n",
       "      <td>NaN</td>\n",
       "    </tr>\n",
       "    <tr>\n",
       "      <th>min</th>\n",
       "      <td>NaN</td>\n",
       "      <td>NaN</td>\n",
       "      <td>NaN</td>\n",
       "      <td>NaN</td>\n",
       "      <td>NaN</td>\n",
       "      <td>NaN</td>\n",
       "      <td>NaN</td>\n",
       "    </tr>\n",
       "    <tr>\n",
       "      <th>25%</th>\n",
       "      <td>NaN</td>\n",
       "      <td>NaN</td>\n",
       "      <td>NaN</td>\n",
       "      <td>NaN</td>\n",
       "      <td>NaN</td>\n",
       "      <td>NaN</td>\n",
       "      <td>NaN</td>\n",
       "    </tr>\n",
       "    <tr>\n",
       "      <th>50%</th>\n",
       "      <td>NaN</td>\n",
       "      <td>NaN</td>\n",
       "      <td>NaN</td>\n",
       "      <td>NaN</td>\n",
       "      <td>NaN</td>\n",
       "      <td>NaN</td>\n",
       "      <td>NaN</td>\n",
       "    </tr>\n",
       "    <tr>\n",
       "      <th>75%</th>\n",
       "      <td>NaN</td>\n",
       "      <td>NaN</td>\n",
       "      <td>NaN</td>\n",
       "      <td>NaN</td>\n",
       "      <td>NaN</td>\n",
       "      <td>NaN</td>\n",
       "      <td>NaN</td>\n",
       "    </tr>\n",
       "    <tr>\n",
       "      <th>max</th>\n",
       "      <td>NaN</td>\n",
       "      <td>NaN</td>\n",
       "      <td>NaN</td>\n",
       "      <td>NaN</td>\n",
       "      <td>NaN</td>\n",
       "      <td>NaN</td>\n",
       "      <td>NaN</td>\n",
       "    </tr>\n",
       "  </tbody>\n",
       "</table>\n",
       "</div>"
      ],
      "text/plain": [
       "       Unnamed: 10  Unnamed: 11  Unnamed: 12  Unnamed: 13  Unnamed: 14  \\\n",
       "count          0.0          0.0          0.0          0.0          0.0   \n",
       "mean           NaN          NaN          NaN          NaN          NaN   \n",
       "std            NaN          NaN          NaN          NaN          NaN   \n",
       "min            NaN          NaN          NaN          NaN          NaN   \n",
       "25%            NaN          NaN          NaN          NaN          NaN   \n",
       "50%            NaN          NaN          NaN          NaN          NaN   \n",
       "75%            NaN          NaN          NaN          NaN          NaN   \n",
       "max            NaN          NaN          NaN          NaN          NaN   \n",
       "\n",
       "       Unnamed: 15  Unnamed: 16  \n",
       "count          0.0          0.0  \n",
       "mean           NaN          NaN  \n",
       "std            NaN          NaN  \n",
       "min            NaN          NaN  \n",
       "25%            NaN          NaN  \n",
       "50%            NaN          NaN  \n",
       "75%            NaN          NaN  \n",
       "max            NaN          NaN  "
      ]
     },
     "execution_count": 82,
     "metadata": {},
     "output_type": "execute_result"
    }
   ],
   "source": [
    "asthma.describe()"
   ]
  },
  {
   "cell_type": "markdown",
   "metadata": {},
   "source": []
  }
 ],
 "metadata": {
  "kernelspec": {
   "display_name": "base",
   "language": "python",
   "name": "python3"
  },
  "language_info": {
   "codemirror_mode": {
    "name": "ipython",
    "version": 3
   },
   "file_extension": ".py",
   "mimetype": "text/x-python",
   "name": "python",
   "nbconvert_exporter": "python",
   "pygments_lexer": "ipython3",
   "version": "3.9.13"
  },
  "orig_nbformat": 4,
  "vscode": {
   "interpreter": {
    "hash": "8d19e4ec3b848b101d227617f33f07b2682a462f980d939ed2f0fc24addfdd46"
   }
  }
 },
 "nbformat": 4,
 "nbformat_minor": 2
}
