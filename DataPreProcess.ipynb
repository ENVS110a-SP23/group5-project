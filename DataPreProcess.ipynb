{
 "cells": [
  {
   "attachments": {},
   "cell_type": "markdown",
   "metadata": {},
   "source": [
    "**GROUP 5**\n",
    "Data Pre-processing"
   ]
  },
  {
   "attachments": {},
   "cell_type": "markdown",
   "metadata": {},
   "source": [
    "First, we must import our data (and numpy and pandas to help us start looking at it) and created dataframes\n",
    "\n",
    "We ran .head() to check that everything looked correct with our new dataframes"
   ]
  },
  {
   "cell_type": "code",
   "execution_count": 3,
   "metadata": {},
   "outputs": [
    {
     "name": "stdout",
     "output_type": "stream",
     "text": [
      "     State   County  Year  Days with AQI  Good Days  Moderate Days  \\\n",
      "0  Alabama  Baldwin  2015            264        230             33   \n",
      "1  Alabama     Clay  2015            112        101             11   \n",
      "2  Alabama  Colbert  2015            280        251             29   \n",
      "3  Alabama   DeKalb  2015            363        319             43   \n",
      "4  Alabama   Elmore  2015            233        223              9   \n",
      "\n",
      "   Unhealthy for Sensitive Groups Days  Unhealthy Days  Very Unhealthy Days  \\\n",
      "0                                    1               0                    0   \n",
      "1                                    0               0                    0   \n",
      "2                                    0               0                    0   \n",
      "3                                    1               0                    0   \n",
      "4                                    1               0                    0   \n",
      "\n",
      "   Hazardous Days  Max AQI  90th Percentile AQI  Median AQI  Days CO  \\\n",
      "0               0      129                   53          38        0   \n",
      "1               0       91                   50          32        0   \n",
      "2               0       73                   51          36        0   \n",
      "3               0      101                   52          37        0   \n",
      "4               0      115                   47          35        0   \n",
      "\n",
      "   Days NO2  Days Ozone  Days PM2.5  Days PM10  \n",
      "0         0         189          75          0  \n",
      "1         0           0         112          0  \n",
      "2         0         195          85          0  \n",
      "3         0         307          56          0  \n",
      "4         0         233           0          0  \n"
     ]
    },
    {
     "data": {
      "text/html": [
       "<div>\n",
       "<style scoped>\n",
       "    .dataframe tbody tr th:only-of-type {\n",
       "        vertical-align: middle;\n",
       "    }\n",
       "\n",
       "    .dataframe tbody tr th {\n",
       "        vertical-align: top;\n",
       "    }\n",
       "\n",
       "    .dataframe thead th {\n",
       "        text-align: right;\n",
       "    }\n",
       "</style>\n",
       "<table border=\"1\" class=\"dataframe\">\n",
       "  <thead>\n",
       "    <tr style=\"text-align: right;\">\n",
       "      <th></th>\n",
       "      <th>County</th>\n",
       "      <th>Year</th>\n",
       "      <th>Asthma measure</th>\n",
       "      <th>Comparison</th>\n",
       "      <th>Group</th>\n",
       "      <th>County prevalence</th>\n",
       "      <th>County 95% confidence interval</th>\n",
       "      <th>California prevalence</th>\n",
       "      <th>California 95% confidence interval</th>\n",
       "      <th>Comment</th>\n",
       "      <th>Unnamed: 10</th>\n",
       "      <th>Unnamed: 11</th>\n",
       "      <th>Unnamed: 12</th>\n",
       "      <th>Unnamed: 13</th>\n",
       "      <th>Unnamed: 14</th>\n",
       "      <th>Unnamed: 15</th>\n",
       "      <th>Unnamed: 16</th>\n",
       "    </tr>\n",
       "  </thead>\n",
       "  <tbody>\n",
       "    <tr>\n",
       "      <th>0</th>\n",
       "      <td>Alameda</td>\n",
       "      <td>2015–2016</td>\n",
       "      <td>Lifetime asthma prevalence</td>\n",
       "      <td>Total population</td>\n",
       "      <td>All ages</td>\n",
       "      <td>14.3%</td>\n",
       "      <td>(10.7–17.9)</td>\n",
       "      <td>14.8%</td>\n",
       "      <td>(14.0–15.7)</td>\n",
       "      <td>None</td>\n",
       "      <td>NaN</td>\n",
       "      <td>NaN</td>\n",
       "      <td>NaN</td>\n",
       "      <td>NaN</td>\n",
       "      <td>NaN</td>\n",
       "      <td>NaN</td>\n",
       "      <td>NaN</td>\n",
       "    </tr>\n",
       "    <tr>\n",
       "      <th>1</th>\n",
       "      <td>Alpine</td>\n",
       "      <td>2015–2016</td>\n",
       "      <td>Lifetime asthma prevalence</td>\n",
       "      <td>Total population</td>\n",
       "      <td>All ages</td>\n",
       "      <td>14.2%</td>\n",
       "      <td>(7.2–21.1)</td>\n",
       "      <td>14.8%</td>\n",
       "      <td>(14.0–15.7)</td>\n",
       "      <td>Alpine, Amador, Calaveras, Inyo, Mariposa, Mon...</td>\n",
       "      <td>NaN</td>\n",
       "      <td>NaN</td>\n",
       "      <td>NaN</td>\n",
       "      <td>NaN</td>\n",
       "      <td>NaN</td>\n",
       "      <td>NaN</td>\n",
       "      <td>NaN</td>\n",
       "    </tr>\n",
       "    <tr>\n",
       "      <th>2</th>\n",
       "      <td>Amador</td>\n",
       "      <td>2015–2016</td>\n",
       "      <td>Lifetime asthma prevalence</td>\n",
       "      <td>Total population</td>\n",
       "      <td>All ages</td>\n",
       "      <td>14.2%</td>\n",
       "      <td>(7.2–21.1)</td>\n",
       "      <td>14.8%</td>\n",
       "      <td>(14.0–15.7)</td>\n",
       "      <td>Alpine, Amador, Calaveras, Inyo, Mariposa, Mon...</td>\n",
       "      <td>NaN</td>\n",
       "      <td>NaN</td>\n",
       "      <td>NaN</td>\n",
       "      <td>NaN</td>\n",
       "      <td>NaN</td>\n",
       "      <td>NaN</td>\n",
       "      <td>NaN</td>\n",
       "    </tr>\n",
       "    <tr>\n",
       "      <th>3</th>\n",
       "      <td>Butte</td>\n",
       "      <td>2015–2016</td>\n",
       "      <td>Lifetime asthma prevalence</td>\n",
       "      <td>Total population</td>\n",
       "      <td>All ages</td>\n",
       "      <td>14.7%</td>\n",
       "      <td>(7.8–21.6)</td>\n",
       "      <td>14.8%</td>\n",
       "      <td>(14.0–15.7)</td>\n",
       "      <td>None</td>\n",
       "      <td>NaN</td>\n",
       "      <td>NaN</td>\n",
       "      <td>NaN</td>\n",
       "      <td>NaN</td>\n",
       "      <td>NaN</td>\n",
       "      <td>NaN</td>\n",
       "      <td>NaN</td>\n",
       "    </tr>\n",
       "    <tr>\n",
       "      <th>4</th>\n",
       "      <td>Calaveras</td>\n",
       "      <td>2015–2016</td>\n",
       "      <td>Lifetime asthma prevalence</td>\n",
       "      <td>Total population</td>\n",
       "      <td>All ages</td>\n",
       "      <td>14.2%</td>\n",
       "      <td>(7.2–21.1)</td>\n",
       "      <td>14.8%</td>\n",
       "      <td>(14.0–15.7)</td>\n",
       "      <td>Alpine, Amador, Calaveras, Inyo, Mariposa, Mon...</td>\n",
       "      <td>NaN</td>\n",
       "      <td>NaN</td>\n",
       "      <td>NaN</td>\n",
       "      <td>NaN</td>\n",
       "      <td>NaN</td>\n",
       "      <td>NaN</td>\n",
       "      <td>NaN</td>\n",
       "    </tr>\n",
       "  </tbody>\n",
       "</table>\n",
       "</div>"
      ],
      "text/plain": [
       "      County       Year              Asthma measure        Comparison  \\\n",
       "0    Alameda  2015–2016  Lifetime asthma prevalence  Total population   \n",
       "1     Alpine  2015–2016  Lifetime asthma prevalence  Total population   \n",
       "2     Amador  2015–2016  Lifetime asthma prevalence  Total population   \n",
       "3      Butte  2015–2016  Lifetime asthma prevalence  Total population   \n",
       "4  Calaveras  2015–2016  Lifetime asthma prevalence  Total population   \n",
       "\n",
       "      Group County prevalence County 95% confidence interval  \\\n",
       "0  All ages             14.3%                    (10.7–17.9)   \n",
       "1  All ages             14.2%                     (7.2–21.1)   \n",
       "2  All ages             14.2%                     (7.2–21.1)   \n",
       "3  All ages             14.7%                     (7.8–21.6)   \n",
       "4  All ages             14.2%                     (7.2–21.1)   \n",
       "\n",
       "  California prevalence California 95% confidence interval  \\\n",
       "0                 14.8%                        (14.0–15.7)   \n",
       "1                 14.8%                        (14.0–15.7)   \n",
       "2                 14.8%                        (14.0–15.7)   \n",
       "3                 14.8%                        (14.0–15.7)   \n",
       "4                 14.8%                        (14.0–15.7)   \n",
       "\n",
       "                                             Comment  Unnamed: 10  \\\n",
       "0                                               None          NaN   \n",
       "1  Alpine, Amador, Calaveras, Inyo, Mariposa, Mon...          NaN   \n",
       "2  Alpine, Amador, Calaveras, Inyo, Mariposa, Mon...          NaN   \n",
       "3                                               None          NaN   \n",
       "4  Alpine, Amador, Calaveras, Inyo, Mariposa, Mon...          NaN   \n",
       "\n",
       "   Unnamed: 11  Unnamed: 12  Unnamed: 13  Unnamed: 14  Unnamed: 15  \\\n",
       "0          NaN          NaN          NaN          NaN          NaN   \n",
       "1          NaN          NaN          NaN          NaN          NaN   \n",
       "2          NaN          NaN          NaN          NaN          NaN   \n",
       "3          NaN          NaN          NaN          NaN          NaN   \n",
       "4          NaN          NaN          NaN          NaN          NaN   \n",
       "\n",
       "   Unnamed: 16  \n",
       "0          NaN  \n",
       "1          NaN  \n",
       "2          NaN  \n",
       "3          NaN  \n",
       "4          NaN  "
      ]
     },
     "execution_count": 3,
     "metadata": {},
     "output_type": "execute_result"
    }
   ],
   "source": [
    "import numpy as np\n",
    "import pandas as pd\n",
    "\n",
    "asthma = pd.read_csv('/Users/delre/group5-project/Datasets/California_Asthma_Data_ADA.csv', header = 4)\n",
    "aqi = pd.read_csv('/Users/delre/group5-project/Datasets/annual_aqi_by_county_2015.csv')\n",
    "\n",
    "print(aqi.head())\n",
    "asthma.head()"
   ]
  },
  {
   "attachments": {},
   "cell_type": "markdown",
   "metadata": {},
   "source": [
    "Our group is going to be comparing ashtma rates and AQI of different counties in CA in 2015-2016, so we will want to be aware of any data that is missing:"
   ]
  },
  {
   "cell_type": "code",
   "execution_count": 12,
   "metadata": {},
   "outputs": [
    {
     "name": "stdout",
     "output_type": "stream",
     "text": [
      "the aqi dataset has 0 columns with missing values and 0 rows with missing data\n",
      "asthma has 2436 columns with missing data\n",
      "asthma has 8 rows with missing data\n",
      "(2436, 17) is the total size of the asthma dataset\n"
     ]
    }
   ],
   "source": [
    "print('the aqi dataset has', sum(aqi.isnull().any(axis=1)), 'columns with missing values and',\n",
    "sum(aqi.isnull().any(axis=0)), 'rows with missing data')\n",
    "\n",
    "print('asthma has', sum(asthma.isnull().any(axis=1)), 'columns with missing data') \n",
    "print('asthma has', sum(asthma.isnull().any(axis=0)), 'rows with missing data') \n",
    "print(asthma.shape, 'is the total size of the asthma dataset')"
   ]
  },
  {
   "attachments": {},
   "cell_type": "markdown",
   "metadata": {},
   "source": [
    "We wanted to see all the null values in the asthma dataframe so we could know what was missing"
   ]
  },
  {
   "cell_type": "code",
   "execution_count": 21,
   "metadata": {},
   "outputs": [
    {
     "name": "stdout",
     "output_type": "stream",
     "text": [
      "County                                False\n",
      "Year                                  False\n",
      "Asthma measure                        False\n",
      "Comparison                            False\n",
      "Group                                 False\n",
      "County prevalence                     False\n",
      "County 95% confidence interval        False\n",
      "California prevalence                 False\n",
      "California 95% confidence interval    False\n",
      "Comment                                True\n",
      "Unnamed: 10                            True\n",
      "Unnamed: 11                            True\n",
      "Unnamed: 12                            True\n",
      "Unnamed: 13                            True\n",
      "Unnamed: 14                            True\n",
      "Unnamed: 15                            True\n",
      "Unnamed: 16                            True\n",
      "dtype: bool\n"
     ]
    }
   ],
   "source": [
    "print(asthma.isnull().any(axis=0))"
   ]
  },
  {
   "attachments": {},
   "cell_type": "markdown",
   "metadata": {},
   "source": [
    "This helped us realize that the null values were popping up so frequently because python was reading too much of our dataset; our excel file only has relevant data in the first nine columns, but python is looking at up to 16 columns which are mostly empty cells, and otherwise only contain notes that python cannot make sense of.\n",
    "\n",
    "We also only want to look at data from California in our aqi dataset. Because of this, we made two subsets:"
   ]
  },
  {
   "cell_type": "code",
   "execution_count": 58,
   "metadata": {},
   "outputs": [
    {
     "name": "stdout",
     "output_type": "stream",
     "text": [
      "Empty DataFrame\n",
      "Columns: [County, Year, Asthma measure, Comparison, Group, County prevalence, County 95% confidence interval, California prevalence, California 95% confidence interval, Comment, Unnamed: 10, Unnamed: 11, Unnamed: 12, Unnamed: 13, Unnamed: 14, Unnamed: 15, Unnamed: 16]\n",
      "Index: []\n"
     ]
    },
    {
     "ename": "ValueError",
     "evalue": "The truth value of a Series is ambiguous. Use a.empty, a.bool(), a.item(), a.any() or a.all().",
     "output_type": "error",
     "traceback": [
      "\u001b[1;31m---------------------------------------------------------------------------\u001b[0m",
      "\u001b[1;31mValueError\u001b[0m                                Traceback (most recent call last)",
      "\u001b[1;32m~\\AppData\\Local\\Temp\\ipykernel_17868\\1180235683.py\u001b[0m in \u001b[0;36m<module>\u001b[1;34m\u001b[0m\n\u001b[0;32m     11\u001b[0m     \u001b[1;32mfor\u001b[0m \u001b[0mplace\u001b[0m \u001b[1;32min\u001b[0m \u001b[0maqi\u001b[0m\u001b[1;33m[\u001b[0m\u001b[0mx\u001b[0m\u001b[1;33m]\u001b[0m\u001b[1;33m:\u001b[0m\u001b[1;33m\u001b[0m\u001b[1;33m\u001b[0m\u001b[0m\n\u001b[0;32m     12\u001b[0m         \u001b[1;31m#if aqi[x].isnull().any() == False:\u001b[0m\u001b[1;33m\u001b[0m\u001b[1;33m\u001b[0m\u001b[0m\n\u001b[1;32m---> 13\u001b[1;33m             \u001b[1;32mif\u001b[0m \u001b[0maqi\u001b[0m\u001b[1;33m[\u001b[0m\u001b[1;34m'State'\u001b[0m\u001b[1;33m]\u001b[0m \u001b[1;33m==\u001b[0m \u001b[1;34m'California'\u001b[0m\u001b[1;33m:\u001b[0m\u001b[1;33m\u001b[0m\u001b[1;33m\u001b[0m\u001b[0m\n\u001b[0m\u001b[0;32m     14\u001b[0m                 \u001b[0mca_aqi\u001b[0m\u001b[1;33m.\u001b[0m\u001b[0mappend\u001b[0m\u001b[1;33m(\u001b[0m\u001b[1;33m)\u001b[0m\u001b[1;33m\u001b[0m\u001b[1;33m\u001b[0m\u001b[0m\n",
      "\u001b[1;32mc:\\Users\\delre\\anaconda3\\lib\\site-packages\\pandas\\core\\generic.py\u001b[0m in \u001b[0;36m__nonzero__\u001b[1;34m(self)\u001b[0m\n\u001b[0;32m   1525\u001b[0m     \u001b[1;33m@\u001b[0m\u001b[0mfinal\u001b[0m\u001b[1;33m\u001b[0m\u001b[1;33m\u001b[0m\u001b[0m\n\u001b[0;32m   1526\u001b[0m     \u001b[1;32mdef\u001b[0m \u001b[0m__nonzero__\u001b[0m\u001b[1;33m(\u001b[0m\u001b[0mself\u001b[0m\u001b[1;33m)\u001b[0m\u001b[1;33m:\u001b[0m\u001b[1;33m\u001b[0m\u001b[1;33m\u001b[0m\u001b[0m\n\u001b[1;32m-> 1527\u001b[1;33m         raise ValueError(\n\u001b[0m\u001b[0;32m   1528\u001b[0m             \u001b[1;34mf\"The truth value of a {type(self).__name__} is ambiguous. \"\u001b[0m\u001b[1;33m\u001b[0m\u001b[1;33m\u001b[0m\u001b[0m\n\u001b[0;32m   1529\u001b[0m             \u001b[1;34m\"Use a.empty, a.bool(), a.item(), a.any() or a.all().\"\u001b[0m\u001b[1;33m\u001b[0m\u001b[1;33m\u001b[0m\u001b[0m\n",
      "\u001b[1;31mValueError\u001b[0m: The truth value of a Series is ambiguous. Use a.empty, a.bool(), a.item(), a.any() or a.all()."
     ]
    }
   ],
   "source": [
    "ca_asthma = asthma.loc['County':'Comment']\n",
    "print(ca_asthma)\n",
    "#Soooo this is not right -- we need just the first 9 columns of data\n",
    "\n",
    "#.reset_index(drop=True) might be useful?\n",
    "\n",
    "grouped_aqi = aqi.groupby('State')\n",
    "ca_aqi = {}\n",
    "\n",
    "for x in aqi:\n",
    "    for place in aqi[x]:\n",
    "        if aqi[x].isnull().any() == False:\n",
    "            if aqi['State'] == 'California':\n",
    "                ca_aqi.append()\n"
   ]
  },
  {
   "attachments": {},
   "cell_type": "markdown",
   "metadata": {},
   "source": [
    "We used .describe() to quickly look at some summary statistics from our dataframe as well"
   ]
  },
  {
   "cell_type": "code",
   "execution_count": 13,
   "metadata": {},
   "outputs": [
    {
     "name": "stdout",
     "output_type": "stream",
     "text": [
      "summary statistics for aqi:          Year  Days with AQI    Good Days  Moderate Days  \\\n",
      "count  1042.0    1042.000000  1042.000000    1042.000000   \n",
      "mean   2015.0     307.615163   243.827255      59.912668   \n",
      "std       0.0      89.641182    78.876567      48.680308   \n",
      "min    2015.0      22.000000     1.000000       0.000000   \n",
      "25%    2015.0     260.000000   194.000000      23.000000   \n",
      "50%    2015.0     362.000000   260.000000      47.000000   \n",
      "75%    2015.0     365.000000   308.000000      87.000000   \n",
      "max    2015.0     365.000000   361.000000     295.000000   \n",
      "\n",
      "       Unhealthy for Sensitive Groups Days  Unhealthy Days  \\\n",
      "count                          1042.000000     1042.000000   \n",
      "mean                              3.206334        0.605566   \n",
      "std                               8.540272        2.846183   \n",
      "min                               0.000000        0.000000   \n",
      "25%                               0.000000        0.000000   \n",
      "50%                               1.000000        0.000000   \n",
      "75%                               3.000000        0.000000   \n",
      "max                             106.000000       40.000000   \n",
      "\n",
      "       Very Unhealthy Days  Hazardous Days      Max AQI  90th Percentile AQI  \\\n",
      "count          1042.000000     1042.000000  1042.000000          1042.000000   \n",
      "mean              0.031670        0.031670   118.167946            57.768714   \n",
      "std               0.262909        0.518583   134.843445            15.914917   \n",
      "min               0.000000        0.000000    17.000000            10.000000   \n",
      "25%               0.000000        0.000000    87.000000            50.000000   \n",
      "50%               0.000000        0.000000   105.000000            56.000000   \n",
      "75%               0.000000        0.000000   133.000000            64.000000   \n",
      "max               5.000000       12.000000  3994.000000           154.000000   \n",
      "\n",
      "        Median AQI      Days CO     Days NO2   Days Ozone   Days PM2.5  \\\n",
      "count  1042.000000  1042.000000  1042.000000  1042.000000  1042.000000   \n",
      "mean     36.590211     0.541267     5.844530   170.674664   117.126679   \n",
      "std      10.281813     9.927050    22.314984   118.476669   109.545298   \n",
      "min       4.000000     0.000000     0.000000     0.000000     0.000000   \n",
      "25%      33.000000     0.000000     0.000000    70.250000     2.250000   \n",
      "50%      38.000000     0.000000     0.000000   186.500000   106.000000   \n",
      "75%      42.000000     0.000000     0.000000   245.000000   194.000000   \n",
      "max     102.000000   312.000000   300.000000   365.000000   365.000000   \n",
      "\n",
      "         Days PM10  \n",
      "count  1042.000000  \n",
      "mean     13.428023  \n",
      "std      52.689629  \n",
      "min       0.000000  \n",
      "25%       0.000000  \n",
      "50%       0.000000  \n",
      "75%       0.000000  \n",
      "max     365.000000  \n",
      "summary statistics for asthma        Unnamed: 10  Unnamed: 11  Unnamed: 12  Unnamed: 13  Unnamed: 14  \\\n",
      "count          0.0          0.0          0.0          0.0          0.0   \n",
      "mean           NaN          NaN          NaN          NaN          NaN   \n",
      "std            NaN          NaN          NaN          NaN          NaN   \n",
      "min            NaN          NaN          NaN          NaN          NaN   \n",
      "25%            NaN          NaN          NaN          NaN          NaN   \n",
      "50%            NaN          NaN          NaN          NaN          NaN   \n",
      "75%            NaN          NaN          NaN          NaN          NaN   \n",
      "max            NaN          NaN          NaN          NaN          NaN   \n",
      "\n",
      "       Unnamed: 15  Unnamed: 16  \n",
      "count          0.0          0.0  \n",
      "mean           NaN          NaN  \n",
      "std            NaN          NaN  \n",
      "min            NaN          NaN  \n",
      "25%            NaN          NaN  \n",
      "50%            NaN          NaN  \n",
      "75%            NaN          NaN  \n",
      "max            NaN          NaN  \n"
     ]
    }
   ],
   "source": [
    "print('summary statistics for aqi:', aqi.describe())\n",
    "print('summary statistics for asthma', asthma.describe())"
   ]
  }
 ],
 "metadata": {
  "kernelspec": {
   "display_name": "base",
   "language": "python",
   "name": "python3"
  },
  "language_info": {
   "codemirror_mode": {
    "name": "ipython",
    "version": 3
   },
   "file_extension": ".py",
   "mimetype": "text/x-python",
   "name": "python",
   "nbconvert_exporter": "python",
   "pygments_lexer": "ipython3",
   "version": "3.9.13"
  },
  "orig_nbformat": 4,
  "vscode": {
   "interpreter": {
    "hash": "8d19e4ec3b848b101d227617f33f07b2682a462f980d939ed2f0fc24addfdd46"
   }
  }
 },
 "nbformat": 4,
 "nbformat_minor": 2
}
