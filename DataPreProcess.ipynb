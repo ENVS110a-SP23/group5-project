{
 "cells": [
  {
   "attachments": {},
   "cell_type": "markdown",
   "metadata": {},
   "source": [
    "**GROUP 5**\n",
    "Data Pre-processing"
   ]
  },
  {
   "attachments": {},
   "cell_type": "markdown",
   "metadata": {},
   "source": [
    "First, we imported our data (and numpy and pandas to help us start looking at it) and created dataframes\n",
    "\n",
    "We ran .head() to check that everything looked correct with our new dataframes"
   ]
  },
  {
   "cell_type": "code",
<<<<<<< HEAD
   "execution_count": 7,
=======
   "execution_count": 6,
>>>>>>> 8f3bd4fd7f916cff99f17c6411a3a22e1be7c263
   "metadata": {},
   "outputs": [
    {
     "ename": "FileNotFoundError",
     "evalue": "[Errno 2] No such file or directory: '/Datasets/annual_aqi_by_county_2016.csv'",
     "output_type": "error",
     "traceback": [
      "\u001b[0;31m---------------------------------------------------------------------------\u001b[0m",
      "\u001b[0;31mFileNotFoundError\u001b[0m                         Traceback (most recent call last)",
      "\u001b[0;32m/var/folders/7m/gw850q3s6sd3_1yky7yzkkfc0000gp/T/ipykernel_33022/3804289033.py\u001b[0m in \u001b[0;36m<module>\u001b[0;34m\u001b[0m\n\u001b[1;32m      5\u001b[0m \u001b[0masthma\u001b[0m \u001b[0;34m=\u001b[0m \u001b[0mpd\u001b[0m\u001b[0;34m.\u001b[0m\u001b[0mread_csv\u001b[0m\u001b[0;34m(\u001b[0m\u001b[0;34m'Datasets/California_Asthma_Data_ADA.csv'\u001b[0m\u001b[0;34m,\u001b[0m \u001b[0mheader\u001b[0m \u001b[0;34m=\u001b[0m \u001b[0;36m4\u001b[0m\u001b[0;34m)\u001b[0m\u001b[0;34m\u001b[0m\u001b[0;34m\u001b[0m\u001b[0m\n\u001b[1;32m      6\u001b[0m \u001b[0maqi2015\u001b[0m \u001b[0;34m=\u001b[0m \u001b[0mpd\u001b[0m\u001b[0;34m.\u001b[0m\u001b[0mread_csv\u001b[0m\u001b[0;34m(\u001b[0m\u001b[0;34m'Datasets/annual_aqi_by_county_2015.csv'\u001b[0m\u001b[0;34m)\u001b[0m\u001b[0;34m\u001b[0m\u001b[0;34m\u001b[0m\u001b[0m\n\u001b[0;32m----> 7\u001b[0;31m \u001b[0maqi2016\u001b[0m \u001b[0;34m=\u001b[0m \u001b[0mpd\u001b[0m\u001b[0;34m.\u001b[0m\u001b[0mread_csv\u001b[0m\u001b[0;34m(\u001b[0m\u001b[0;34m'/Datasets/annual_aqi_by_county_2016.csv'\u001b[0m\u001b[0;34m)\u001b[0m\u001b[0;34m\u001b[0m\u001b[0;34m\u001b[0m\u001b[0m\n\u001b[0m\u001b[1;32m      8\u001b[0m \u001b[0;34m\u001b[0m\u001b[0m\n\u001b[1;32m      9\u001b[0m \u001b[0mprint\u001b[0m\u001b[0;34m(\u001b[0m\u001b[0maqi2015\u001b[0m\u001b[0;34m.\u001b[0m\u001b[0mhead\u001b[0m\u001b[0;34m(\u001b[0m\u001b[0;34m)\u001b[0m\u001b[0;34m)\u001b[0m\u001b[0;34m\u001b[0m\u001b[0;34m\u001b[0m\u001b[0m\n",
      "\u001b[0;32m/opt/anaconda3/lib/python3.9/site-packages/pandas/util/_decorators.py\u001b[0m in \u001b[0;36mwrapper\u001b[0;34m(*args, **kwargs)\u001b[0m\n\u001b[1;32m    309\u001b[0m                     \u001b[0mstacklevel\u001b[0m\u001b[0;34m=\u001b[0m\u001b[0mstacklevel\u001b[0m\u001b[0;34m,\u001b[0m\u001b[0;34m\u001b[0m\u001b[0;34m\u001b[0m\u001b[0m\n\u001b[1;32m    310\u001b[0m                 )\n\u001b[0;32m--> 311\u001b[0;31m             \u001b[0;32mreturn\u001b[0m \u001b[0mfunc\u001b[0m\u001b[0;34m(\u001b[0m\u001b[0;34m*\u001b[0m\u001b[0margs\u001b[0m\u001b[0;34m,\u001b[0m \u001b[0;34m**\u001b[0m\u001b[0mkwargs\u001b[0m\u001b[0;34m)\u001b[0m\u001b[0;34m\u001b[0m\u001b[0;34m\u001b[0m\u001b[0m\n\u001b[0m\u001b[1;32m    312\u001b[0m \u001b[0;34m\u001b[0m\u001b[0m\n\u001b[1;32m    313\u001b[0m         \u001b[0;32mreturn\u001b[0m \u001b[0mwrapper\u001b[0m\u001b[0;34m\u001b[0m\u001b[0;34m\u001b[0m\u001b[0m\n",
      "\u001b[0;32m/opt/anaconda3/lib/python3.9/site-packages/pandas/io/parsers/readers.py\u001b[0m in \u001b[0;36mread_csv\u001b[0;34m(filepath_or_buffer, sep, delimiter, header, names, index_col, usecols, squeeze, prefix, mangle_dupe_cols, dtype, engine, converters, true_values, false_values, skipinitialspace, skiprows, skipfooter, nrows, na_values, keep_default_na, na_filter, verbose, skip_blank_lines, parse_dates, infer_datetime_format, keep_date_col, date_parser, dayfirst, cache_dates, iterator, chunksize, compression, thousands, decimal, lineterminator, quotechar, quoting, doublequote, escapechar, comment, encoding, encoding_errors, dialect, error_bad_lines, warn_bad_lines, on_bad_lines, delim_whitespace, low_memory, memory_map, float_precision, storage_options)\u001b[0m\n\u001b[1;32m    676\u001b[0m     \u001b[0mkwds\u001b[0m\u001b[0;34m.\u001b[0m\u001b[0mupdate\u001b[0m\u001b[0;34m(\u001b[0m\u001b[0mkwds_defaults\u001b[0m\u001b[0;34m)\u001b[0m\u001b[0;34m\u001b[0m\u001b[0;34m\u001b[0m\u001b[0m\n\u001b[1;32m    677\u001b[0m \u001b[0;34m\u001b[0m\u001b[0m\n\u001b[0;32m--> 678\u001b[0;31m     \u001b[0;32mreturn\u001b[0m \u001b[0m_read\u001b[0m\u001b[0;34m(\u001b[0m\u001b[0mfilepath_or_buffer\u001b[0m\u001b[0;34m,\u001b[0m \u001b[0mkwds\u001b[0m\u001b[0;34m)\u001b[0m\u001b[0;34m\u001b[0m\u001b[0;34m\u001b[0m\u001b[0m\n\u001b[0m\u001b[1;32m    679\u001b[0m \u001b[0;34m\u001b[0m\u001b[0m\n\u001b[1;32m    680\u001b[0m \u001b[0;34m\u001b[0m\u001b[0m\n",
      "\u001b[0;32m/opt/anaconda3/lib/python3.9/site-packages/pandas/io/parsers/readers.py\u001b[0m in \u001b[0;36m_read\u001b[0;34m(filepath_or_buffer, kwds)\u001b[0m\n\u001b[1;32m    573\u001b[0m \u001b[0;34m\u001b[0m\u001b[0m\n\u001b[1;32m    574\u001b[0m     \u001b[0;31m# Create the parser.\u001b[0m\u001b[0;34m\u001b[0m\u001b[0;34m\u001b[0m\u001b[0m\n\u001b[0;32m--> 575\u001b[0;31m     \u001b[0mparser\u001b[0m \u001b[0;34m=\u001b[0m \u001b[0mTextFileReader\u001b[0m\u001b[0;34m(\u001b[0m\u001b[0mfilepath_or_buffer\u001b[0m\u001b[0;34m,\u001b[0m \u001b[0;34m**\u001b[0m\u001b[0mkwds\u001b[0m\u001b[0;34m)\u001b[0m\u001b[0;34m\u001b[0m\u001b[0;34m\u001b[0m\u001b[0m\n\u001b[0m\u001b[1;32m    576\u001b[0m \u001b[0;34m\u001b[0m\u001b[0m\n\u001b[1;32m    577\u001b[0m     \u001b[0;32mif\u001b[0m \u001b[0mchunksize\u001b[0m \u001b[0;32mor\u001b[0m \u001b[0miterator\u001b[0m\u001b[0;34m:\u001b[0m\u001b[0;34m\u001b[0m\u001b[0;34m\u001b[0m\u001b[0m\n",
      "\u001b[0;32m/opt/anaconda3/lib/python3.9/site-packages/pandas/io/parsers/readers.py\u001b[0m in \u001b[0;36m__init__\u001b[0;34m(self, f, engine, **kwds)\u001b[0m\n\u001b[1;32m    930\u001b[0m \u001b[0;34m\u001b[0m\u001b[0m\n\u001b[1;32m    931\u001b[0m         \u001b[0mself\u001b[0m\u001b[0;34m.\u001b[0m\u001b[0mhandles\u001b[0m\u001b[0;34m:\u001b[0m \u001b[0mIOHandles\u001b[0m \u001b[0;34m|\u001b[0m \u001b[0;32mNone\u001b[0m \u001b[0;34m=\u001b[0m \u001b[0;32mNone\u001b[0m\u001b[0;34m\u001b[0m\u001b[0;34m\u001b[0m\u001b[0m\n\u001b[0;32m--> 932\u001b[0;31m         \u001b[0mself\u001b[0m\u001b[0;34m.\u001b[0m\u001b[0m_engine\u001b[0m \u001b[0;34m=\u001b[0m \u001b[0mself\u001b[0m\u001b[0;34m.\u001b[0m\u001b[0m_make_engine\u001b[0m\u001b[0;34m(\u001b[0m\u001b[0mf\u001b[0m\u001b[0;34m,\u001b[0m \u001b[0mself\u001b[0m\u001b[0;34m.\u001b[0m\u001b[0mengine\u001b[0m\u001b[0;34m)\u001b[0m\u001b[0;34m\u001b[0m\u001b[0;34m\u001b[0m\u001b[0m\n\u001b[0m\u001b[1;32m    933\u001b[0m \u001b[0;34m\u001b[0m\u001b[0m\n\u001b[1;32m    934\u001b[0m     \u001b[0;32mdef\u001b[0m \u001b[0mclose\u001b[0m\u001b[0;34m(\u001b[0m\u001b[0mself\u001b[0m\u001b[0;34m)\u001b[0m\u001b[0;34m:\u001b[0m\u001b[0;34m\u001b[0m\u001b[0;34m\u001b[0m\u001b[0m\n",
      "\u001b[0;32m/opt/anaconda3/lib/python3.9/site-packages/pandas/io/parsers/readers.py\u001b[0m in \u001b[0;36m_make_engine\u001b[0;34m(self, f, engine)\u001b[0m\n\u001b[1;32m   1214\u001b[0m             \u001b[0;31m# \"Union[str, PathLike[str], ReadCsvBuffer[bytes], ReadCsvBuffer[str]]\"\u001b[0m\u001b[0;34m\u001b[0m\u001b[0;34m\u001b[0m\u001b[0m\n\u001b[1;32m   1215\u001b[0m             \u001b[0;31m# , \"str\", \"bool\", \"Any\", \"Any\", \"Any\", \"Any\", \"Any\"\u001b[0m\u001b[0;34m\u001b[0m\u001b[0;34m\u001b[0m\u001b[0m\n\u001b[0;32m-> 1216\u001b[0;31m             self.handles = get_handle(  # type: ignore[call-overload]\n\u001b[0m\u001b[1;32m   1217\u001b[0m                 \u001b[0mf\u001b[0m\u001b[0;34m,\u001b[0m\u001b[0;34m\u001b[0m\u001b[0;34m\u001b[0m\u001b[0m\n\u001b[1;32m   1218\u001b[0m                 \u001b[0mmode\u001b[0m\u001b[0;34m,\u001b[0m\u001b[0;34m\u001b[0m\u001b[0;34m\u001b[0m\u001b[0m\n",
      "\u001b[0;32m/opt/anaconda3/lib/python3.9/site-packages/pandas/io/common.py\u001b[0m in \u001b[0;36mget_handle\u001b[0;34m(path_or_buf, mode, encoding, compression, memory_map, is_text, errors, storage_options)\u001b[0m\n\u001b[1;32m    784\u001b[0m         \u001b[0;32mif\u001b[0m \u001b[0mioargs\u001b[0m\u001b[0;34m.\u001b[0m\u001b[0mencoding\u001b[0m \u001b[0;32mand\u001b[0m \u001b[0;34m\"b\"\u001b[0m \u001b[0;32mnot\u001b[0m \u001b[0;32min\u001b[0m \u001b[0mioargs\u001b[0m\u001b[0;34m.\u001b[0m\u001b[0mmode\u001b[0m\u001b[0;34m:\u001b[0m\u001b[0;34m\u001b[0m\u001b[0;34m\u001b[0m\u001b[0m\n\u001b[1;32m    785\u001b[0m             \u001b[0;31m# Encoding\u001b[0m\u001b[0;34m\u001b[0m\u001b[0;34m\u001b[0m\u001b[0m\n\u001b[0;32m--> 786\u001b[0;31m             handle = open(\n\u001b[0m\u001b[1;32m    787\u001b[0m                 \u001b[0mhandle\u001b[0m\u001b[0;34m,\u001b[0m\u001b[0;34m\u001b[0m\u001b[0;34m\u001b[0m\u001b[0m\n\u001b[1;32m    788\u001b[0m                 \u001b[0mioargs\u001b[0m\u001b[0;34m.\u001b[0m\u001b[0mmode\u001b[0m\u001b[0;34m,\u001b[0m\u001b[0;34m\u001b[0m\u001b[0;34m\u001b[0m\u001b[0m\n",
      "\u001b[0;31mFileNotFoundError\u001b[0m: [Errno 2] No such file or directory: '/Datasets/annual_aqi_by_county_2016.csv'"
     ]
<<<<<<< HEAD
    },
    {
     "data": {
      "text/html": [
       "<div>\n",
       "<style scoped>\n",
       "    .dataframe tbody tr th:only-of-type {\n",
       "        vertical-align: middle;\n",
       "    }\n",
       "\n",
       "    .dataframe tbody tr th {\n",
       "        vertical-align: top;\n",
       "    }\n",
       "\n",
       "    .dataframe thead th {\n",
       "        text-align: right;\n",
       "    }\n",
       "</style>\n",
       "<table border=\"1\" class=\"dataframe\">\n",
       "  <thead>\n",
       "    <tr style=\"text-align: right;\">\n",
       "      <th></th>\n",
       "      <th>County</th>\n",
       "      <th>Year</th>\n",
       "      <th>Asthma measure</th>\n",
       "      <th>Comparison</th>\n",
       "      <th>Group</th>\n",
       "      <th>County prevalence</th>\n",
       "      <th>County 95% confidence interval</th>\n",
       "      <th>California prevalence</th>\n",
       "      <th>California 95% confidence interval</th>\n",
       "      <th>Comment</th>\n",
       "    </tr>\n",
       "  </thead>\n",
       "  <tbody>\n",
       "    <tr>\n",
       "      <th>0</th>\n",
       "      <td>Alameda</td>\n",
       "      <td>2015 2016</td>\n",
       "      <td>Lifetime asthma prevalence</td>\n",
       "      <td>Total population</td>\n",
       "      <td>All ages</td>\n",
       "      <td>14.30%</td>\n",
       "      <td>(10.7 17.9)</td>\n",
       "      <td>14.80%</td>\n",
       "      <td>(14.0 15.7)</td>\n",
       "      <td>None</td>\n",
       "    </tr>\n",
       "    <tr>\n",
       "      <th>1</th>\n",
       "      <td>Alpine</td>\n",
       "      <td>2015 2016</td>\n",
       "      <td>Lifetime asthma prevalence</td>\n",
       "      <td>Total population</td>\n",
       "      <td>All ages</td>\n",
       "      <td>14.20%</td>\n",
       "      <td>(7.2 21.1)</td>\n",
       "      <td>14.80%</td>\n",
       "      <td>(14.0 15.7)</td>\n",
       "      <td>Alpine, Amador, Calaveras, Inyo, Mariposa, Mon...</td>\n",
       "    </tr>\n",
       "    <tr>\n",
       "      <th>2</th>\n",
       "      <td>Amador</td>\n",
       "      <td>2015 2016</td>\n",
       "      <td>Lifetime asthma prevalence</td>\n",
       "      <td>Total population</td>\n",
       "      <td>All ages</td>\n",
       "      <td>14.20%</td>\n",
       "      <td>(7.2 21.1)</td>\n",
       "      <td>14.80%</td>\n",
       "      <td>(14.0 15.7)</td>\n",
       "      <td>Alpine, Amador, Calaveras, Inyo, Mariposa, Mon...</td>\n",
       "    </tr>\n",
       "    <tr>\n",
       "      <th>3</th>\n",
       "      <td>Butte</td>\n",
       "      <td>2015 2016</td>\n",
       "      <td>Lifetime asthma prevalence</td>\n",
       "      <td>Total population</td>\n",
       "      <td>All ages</td>\n",
       "      <td>14.70%</td>\n",
       "      <td>(7.8 21.6)</td>\n",
       "      <td>14.80%</td>\n",
       "      <td>(14.0 15.7)</td>\n",
       "      <td>None</td>\n",
       "    </tr>\n",
       "    <tr>\n",
       "      <th>4</th>\n",
       "      <td>Calaveras</td>\n",
       "      <td>2015 2016</td>\n",
       "      <td>Lifetime asthma prevalence</td>\n",
       "      <td>Total population</td>\n",
       "      <td>All ages</td>\n",
       "      <td>14.20%</td>\n",
       "      <td>(7.2 21.1)</td>\n",
       "      <td>14.80%</td>\n",
       "      <td>(14.0 15.7)</td>\n",
       "      <td>Alpine, Amador, Calaveras, Inyo, Mariposa, Mon...</td>\n",
       "    </tr>\n",
       "  </tbody>\n",
       "</table>\n",
       "</div>"
      ],
      "text/plain": [
       "      County       Year              Asthma measure        Comparison  \\\n",
       "0    Alameda  2015 2016  Lifetime asthma prevalence  Total population   \n",
       "1     Alpine  2015 2016  Lifetime asthma prevalence  Total population   \n",
       "2     Amador  2015 2016  Lifetime asthma prevalence  Total population   \n",
       "3      Butte  2015 2016  Lifetime asthma prevalence  Total population   \n",
       "4  Calaveras  2015 2016  Lifetime asthma prevalence  Total population   \n",
       "\n",
       "      Group County prevalence County 95% confidence interval  \\\n",
       "0  All ages            14.30%                    (10.7 17.9)   \n",
       "1  All ages            14.20%                     (7.2 21.1)   \n",
       "2  All ages            14.20%                     (7.2 21.1)   \n",
       "3  All ages            14.70%                     (7.8 21.6)   \n",
       "4  All ages            14.20%                     (7.2 21.1)   \n",
       "\n",
       "  California prevalence California 95% confidence interval  \\\n",
       "0                14.80%                        (14.0 15.7)   \n",
       "1                14.80%                        (14.0 15.7)   \n",
       "2                14.80%                        (14.0 15.7)   \n",
       "3                14.80%                        (14.0 15.7)   \n",
       "4                14.80%                        (14.0 15.7)   \n",
       "\n",
       "                                             Comment  \n",
       "0                                               None  \n",
       "1  Alpine, Amador, Calaveras, Inyo, Mariposa, Mon...  \n",
       "2  Alpine, Amador, Calaveras, Inyo, Mariposa, Mon...  \n",
       "3                                               None  \n",
       "4  Alpine, Amador, Calaveras, Inyo, Mariposa, Mon...  "
      ]
     },
     "execution_count": 7,
     "metadata": {},
     "output_type": "execute_result"
=======
>>>>>>> 8f3bd4fd7f916cff99f17c6411a3a22e1be7c263
    }
   ],
   "source": [
    "import numpy as np\n",
    "import pandas as pd\n",
    "import matplotlib as sns\n",
    "\n",
    "asthma = pd.read_csv('Datasets/California_Asthma_Data_ADA.csv', header = 4)\n",
    "aqi2015 = pd.read_csv('Datasets/annual_aqi_by_county_2015.csv')\n",
    "aqi2016 = pd.read_csv('Datasets/annual_aqi_by_county_2016.csv')\n",
    "\n",
    "print(aqi2015.head())\n",
    "print(aqi2016.head())\n",
    "asthma.head()"
   ]
  },
  {
   "cell_type": "code",
   "execution_count": null,
   "metadata": {},
   "outputs": [],
   "source": []
  },
  {
   "attachments": {},
   "cell_type": "markdown",
   "metadata": {},
   "source": [
    "Our group is going to be comparing ashtma rates and AQI of different counties in CA in 2015-2016, so we will want to be aware of any data that is missing:"
   ]
  },
  {
   "cell_type": "code",
<<<<<<< HEAD
   "execution_count": 8,
=======
   "execution_count": null,
>>>>>>> 8f3bd4fd7f916cff99f17c6411a3a22e1be7c263
   "metadata": {},
   "outputs": [
    {
     "name": "stdout",
     "output_type": "stream",
     "text": [
      "the aqi 2015 dataset has 0 columns with missing values and 0 rows with missing data\n",
      "the aqi 2016 dataset has 0 columns with missing values and 0 rows with missing data\n",
      "asthma dataset has 461 columns with missing data\n",
      "asthma dataset has 1 rows with missing data\n",
      "(2436, 10) is the total size of the asthma dataset\n"
     ]
    }
   ],
   "source": [
    "print('the aqi 2015 dataset has', sum(aqi2015.isnull().any(axis=1)), 'columns with missing values and',\n",
    "sum(aqi2015.isnull().any(axis=0)), 'rows with missing data')\n",
    "\n",
    "print('the aqi 2016 dataset has', sum(aqi2016.isnull().any(axis=1)), 'columns with missing values and',\n",
    "sum(aqi2016.isnull().any(axis=0)), 'rows with missing data')\n",
    "\n",
    "print('asthma dataset has', sum(asthma.isnull().any(axis=1)), 'columns with missing data') \n",
    "print('asthma dataset has', sum(asthma.isnull().any(axis=0)), 'rows with missing data') \n",
    "print(asthma.shape, 'is the total size of the asthma dataset')"
   ]
  },
  {
   "attachments": {},
   "cell_type": "markdown",
   "metadata": {},
   "source": [
    "We wanted to see all the null values in the asthma dataframe so we could know what was missing"
   ]
  },
  {
   "cell_type": "code",
<<<<<<< HEAD
   "execution_count": 9,
=======
   "execution_count": null,
>>>>>>> 8f3bd4fd7f916cff99f17c6411a3a22e1be7c263
   "metadata": {},
   "outputs": [
    {
     "name": "stdout",
     "output_type": "stream",
     "text": [
      "County                                False\n",
      "Year                                  False\n",
      "Asthma measure                        False\n",
      "Comparison                            False\n",
      "Group                                 False\n",
      "County prevalence                     False\n",
      "County 95% confidence interval        False\n",
      "California prevalence                 False\n",
      "California 95% confidence interval    False\n",
      "Comment                                True\n",
      "dtype: bool\n"
     ]
    }
   ],
   "source": [
    "print(asthma.isnull().any(axis=0))"
   ]
  },
  {
   "attachments": {},
   "cell_type": "markdown",
   "metadata": {},
   "source": [
    "This helped us realize that the null values were popping up so frequently because python was reading too much of our dataset; our excel file only has relevant data in the first nine columns, but python is looking at up to 16 columns which are mostly empty cells, and otherwise only contain notes that python cannot make sense of.\n",
    "\n",
    "We also only want to look at data from California in our aqi datasets. Because of this, we made three subsets:"
   ]
  },
  {
   "cell_type": "code",
<<<<<<< HEAD
   "execution_count": 10,
=======
   "execution_count": null,
>>>>>>> 8f3bd4fd7f916cff99f17c6411a3a22e1be7c263
   "metadata": {},
   "outputs": [],
   "source": [
    "asthmalist = ['County', 'Year', 'Asthma measure', 'Comparison', 'Group',\n",
    "       'County prevalence', 'County 95% confidence interval',\n",
    "       'California prevalence', 'California 95% confidence interval']\n",
    "\n",
    "ca_asthma = asthma[asthmalist]\n",
    "\n",
    "ca_aqi2015 = aqi2015.loc[aqi2015['State']=='California',:].reset_index(drop=True)\n",
    "ca_aqi2016 = aqi2016.loc[aqi2016['State']=='California',:].reset_index(drop=True)"
   ]
  },
  {
   "attachments": {},
   "cell_type": "markdown",
   "metadata": {},
   "source": [
    "Ford helped us realize that we need to make sure we are looking at data for the same time period.\n",
    "Our asthma data is grouped into two year intervals, and our aqi data is in two seperate datasets from 2015-2016.\n",
    "This means we need to combine our two aqi datasets, and for our asthma data, we need to isolate the years 2015-16."
   ]
  },
  {
   "cell_type": "code",
<<<<<<< HEAD
   "execution_count": 11,
=======
   "execution_count": null,
>>>>>>> 8f3bd4fd7f916cff99f17c6411a3a22e1be7c263
   "metadata": {},
   "outputs": [],
   "source": [
    "ca_aqi = pd.concat([ca_aqi2015, ca_aqi2016], axis = 0)\n",
    "\n",
    "ca_asthma2015 = ca_asthma.loc[ca_asthma['Year']=='2015 2016',:].reset_index(drop=True)"
   ]
  },
  {
   "attachments": {},
   "cell_type": "markdown",
   "metadata": {},
   "source": [
    "We needed to check how much data we are going to have to work with to make sure we have at least enough to complete the project"
   ]
  },
  {
   "cell_type": "code",
<<<<<<< HEAD
   "execution_count": 12,
=======
   "execution_count": null,
>>>>>>> 8f3bd4fd7f916cff99f17c6411a3a22e1be7c263
   "metadata": {},
   "outputs": [
    {
     "name": "stdout",
     "output_type": "stream",
     "text": [
      "(812, 9)\n",
      "(108, 18)\n",
      "This should give us enough data to look at\n"
     ]
    }
   ],
   "source": [
    "print(ca_asthma2015.shape)\n",
    "print(ca_aqi.shape)\n",
    "print('This should give us enough data to look at')"
   ]
  },
  {
   "attachments": {},
   "cell_type": "markdown",
   "metadata": {},
   "source": [
    "Finally, we used .describe() to quickly look at some summary statistics from our final dataframes as well"
   ]
  },
  {
   "cell_type": "code",
   "execution_count": null,
   "metadata": {},
   "outputs": [
    {
     "name": "stdout",
     "output_type": "stream",
     "text": [
      "         County       Year              Asthma measure Comparison     Group  \\\n",
      "count       812        812                         812        812       812   \n",
      "unique       58          1                           2          3         7   \n",
      "top     Alameda  2015–2016  Lifetime asthma prevalence  Age group  All ages   \n",
      "freq         14        812                         406        464       116   \n",
      "\n",
      "       County prevalence County 95% confidence interval California prevalence  \\\n",
      "count                812                            812                   812   \n",
      "unique               174                            376                    14   \n",
      "top        Not available                  Not available                 14.8%   \n",
      "freq                 325                            325                    58   \n",
      "\n",
      "       California 95% confidence interval  \n",
      "count                                 812  \n",
      "unique                                 14  \n",
      "top                           (14.0–15.7)  \n",
      "freq                                   58  \n",
      "              Year  Days with AQI   Good Days  Moderate Days  \\\n",
      "count   108.000000     108.000000  108.000000     108.000000   \n",
      "mean   2015.500000     348.027778  206.666667     114.231481   \n",
      "std       0.502331      66.773079   97.690815      68.530177   \n",
      "min    2015.000000      24.000000    1.000000       0.000000   \n",
      "25%    2015.000000     365.000000  126.750000      55.750000   \n",
      "50%    2015.500000     365.000000  231.500000     104.000000   \n",
      "75%    2016.000000     366.000000  288.500000     180.250000   \n",
      "max    2016.000000     366.000000  358.000000     255.000000   \n",
      "\n",
      "       Unhealthy for Sensitive Groups Days  Unhealthy Days  \\\n",
      "count                           108.000000      108.000000   \n",
      "mean                             21.796296        4.564815   \n",
      "std                              28.362065        9.311106   \n",
      "min                               0.000000        0.000000   \n",
      "25%                               1.000000        0.000000   \n",
      "50%                               9.500000        1.000000   \n",
      "75%                              33.250000        4.000000   \n",
      "max                             106.000000       48.000000   \n",
      "\n",
      "       Very Unhealthy Days  Hazardous Days      Max AQI  90th Percentile AQI  \\\n",
      "count           108.000000      108.000000   108.000000           108.000000   \n",
      "mean              0.324074        0.444444   255.879630            83.398148   \n",
      "std               1.372825        2.606008   715.100473            31.325825   \n",
      "min               0.000000        0.000000    49.000000            22.000000   \n",
      "25%               0.000000        0.000000   103.000000            60.500000   \n",
      "50%               0.000000        0.000000   152.000000            80.000000   \n",
      "75%               0.000000        0.000000   172.000000           102.000000   \n",
      "max              12.000000       24.000000  6403.000000           172.000000   \n",
      "\n",
      "       Median AQI     Days CO    Days NO2  Days Ozone  Days PM2.5   Days PM10  \n",
      "count  108.000000  108.000000  108.000000  108.000000  108.000000  108.000000  \n",
      "mean    47.907407    0.064815    5.768519  216.629630  110.166667   15.398148  \n",
      "std     16.690440    0.247347   14.135927   93.906455   65.830780   49.025254  \n",
      "min      9.000000    0.000000    0.000000    0.000000    0.000000    0.000000  \n",
      "25%     37.000000    0.000000    0.000000  182.750000   63.750000    0.000000  \n",
      "50%     44.000000    0.000000    0.000000  219.000000  127.500000    1.000000  \n",
      "75%     54.250000    0.000000    3.000000  263.250000  154.000000    7.500000  \n",
      "max    102.000000    1.000000   91.000000  366.000000  355.000000  347.000000  \n"
     ]
    }
   ],
   "source": [
    "print(ca_asthma2015.describe())\n",
    "print((ca_aqi).describe())"
   ]
  },
  {
   "cell_type": "markdown",
   "metadata": {},
   "source": []
  },
  {
   "cell_type": "code",
   "execution_count": null,
   "metadata": {},
   "outputs": [
    {
     "ename": "NameError",
     "evalue": "name 'asthma' is not defined",
     "output_type": "error",
     "traceback": [
      "\u001b[0;31m---------------------------------------------------------------------------\u001b[0m",
      "\u001b[0;31mNameError\u001b[0m                                 Traceback (most recent call last)",
      "\u001b[0;32m/var/folders/7m/gw850q3s6sd3_1yky7yzkkfc0000gp/T/ipykernel_33022/1342601239.py\u001b[0m in \u001b[0;36m<module>\u001b[0;34m\u001b[0m\n\u001b[0;32m----> 1\u001b[0;31m \u001b[0masthma\u001b[0m\u001b[0;34m.\u001b[0m\u001b[0mdescribe\u001b[0m\u001b[0;34m(\u001b[0m\u001b[0;34m)\u001b[0m\u001b[0;34m\u001b[0m\u001b[0;34m\u001b[0m\u001b[0m\n\u001b[0m",
      "\u001b[0;31mNameError\u001b[0m: name 'asthma' is not defined"
     ]
    }
   ],
   "source": [
    "asthma.describe()"
   ]
  },
  {
   "cell_type": "markdown",
   "metadata": {},
   "source": []
  }
 ],
 "metadata": {
  "kernelspec": {
   "display_name": "base",
   "language": "python",
   "name": "python3"
  },
  "language_info": {
   "codemirror_mode": {
    "name": "ipython",
    "version": 3
   },
   "file_extension": ".py",
   "mimetype": "text/x-python",
   "name": "python",
   "nbconvert_exporter": "python",
   "pygments_lexer": "ipython3",
   "version": "3.9.13"
  },
  "orig_nbformat": 4,
  "vscode": {
   "interpreter": {
    "hash": "8d19e4ec3b848b101d227617f33f07b2682a462f980d939ed2f0fc24addfdd46"
   }
  }
 },
 "nbformat": 4,
 "nbformat_minor": 2
}
